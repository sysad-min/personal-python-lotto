{
 "cells": [
  {
   "cell_type": "markdown",
   "id": "9b04538d",
   "metadata": {},
   "source": [
    "## 동행복권 회차별 로또 번호 요청 API\n",
    "\n",
    "https://www.dhlottery.co.kr/common.do?method=getLottoNumber&drwNo=(원하는 회차 번호)"
   ]
  },
  {
   "cell_type": "markdown",
   "id": "b549a9b3",
   "metadata": {},
   "source": [
    "Concept\n",
    "1. 회차별 로또 번호를 가져와서, DB에 적재한다.\n",
    "2. 실행시키는 순간, 적재되어있는 회차를 조회하여 신규 회차가 존재할 경우 추가 적재\n",
    "3. \n",
    "\n",
    "Response Info<br>\n",
    "추첨회차:drwNo<br>\n",
    "추첨일:drwNoDate<br>\n",
    "번호1:drwtNo1<br>\n",
    "번호2:drwtNo2<br>\n",
    "번호3:drwtNo3<br>\n",
    "번호4:drwtNo4<br>\n",
    "번호5:drwtNo5<br>\n",
    "번호6:drwtNo6<br>\n",
    "보너스번호:bnusNo<br>\n",
    "1등총액:firstAccumamnt<br>\n",
    "1등당첨자수:firstPrzwnerCo<br>\n",
    "1등당첨액:firstWinamnt<br>\n",
    "판매금액:totSellamnt<br>\n",
    "결과값:returnValue<br>"
   ]
  },
  {
   "cell_type": "code",
   "execution_count": 11,
   "id": "5df9f09a",
   "metadata": {},
   "outputs": [],
   "source": [
    "import requests\n",
    "import pymysql\n",
    "import pandas as pd"
   ]
  },
  {
   "cell_type": "code",
   "execution_count": 12,
   "id": "76d70a40",
   "metadata": {},
   "outputs": [],
   "source": [
    "class LottoCash:\n",
    "    def __init__(self, host, port, db, user, passwd):\n",
    "        self.host=host\n",
    "        self.port=port\n",
    "        self.db=db\n",
    "        self.user=user\n",
    "        self.passwd=passwd\n",
    "        self.lotto_url = \"https://www.dhlottery.co.kr/common.do?method=getLottoNumber&drwNo=\"\n",
    "        self.drwNo = 0     ## 회차\n",
    "        \n",
    "    def db_conn(self):\n",
    "        try:\n",
    "            conn = pymysql.connect(host=self.host, port=self.port, db=self.db, user=self.user, passwd=self.passwd)\n",
    "            return conn\n",
    "        except Exception as e:\n",
    "            print(e)\n",
    "            \n",
    "    def get_drwNo(self, conn):\n",
    "        try:\n",
    "            cursor = conn.cursor()\n",
    "            cursor.execute(\"\"\"SELECT drwNo FROM lotto LIMIT1 ORDER BY drwNo desc \"\"\")\n",
    "            df_result = pd.DataFrame(cursor.fetchall())\n",
    "#             print(\"result = \"+str(df_result[0][0]))\n",
    "\n",
    "            if df_result.empty:\n",
    "                self.drwNo = 1\n",
    "            else:\n",
    "                self.drwNo = df_result[0][0]+1\n",
    "            print(\"수집할 회차 : \"+str(self.drwNo))\n",
    "        except Exception as e:\n",
    "            conn.close()\n",
    "            print(e)\n",
    "            \n",
    "    def get_lottoInfo(self):\n",
    "        try:\n",
    "            round_url = self.lotto_url+str(self.drwNo)    # 동행복권 로또API에 원하는 회차를 입력\n",
    "            print(str(self.drwNo)+\"회차 = \"+round_url)\n",
    "            result = requests.get(round_url)\n",
    "            return result.json()\n",
    "        except Exception as e:\n",
    "            print(e)\n",
    "\n",
    "    def set_lottoInfo(self, conn, round_lottoInfo):\n",
    "        try:\n",
    "            cursor = conn.cursor()\n",
    "            sql = \"\"\"INSERT INTO lotto (drwNo\n",
    "                                        , drwNoDate\n",
    "                                        , drwtNo1, drwtNo2, drwtNo3, drwtNo4, drwtNo5, drwtNo6, bnusNo\n",
    "                                        , firstAccumamnt\n",
    "                                        , firstPrzwnerCo\n",
    "                                        , firstWinamnt\n",
    "                                        , totSellamnt\n",
    "                                        , returnValue) VALUES (%s,%s,%s,%s,%s,%s,%s,%s,%s,%s,%s,%s,%s,%s)\"\"\"\n",
    "            datas = (round_lottoInfo.get('drwNo')\n",
    "                    , round_lottoInfo.get('drwNoDate')\n",
    "                    , round_lottoInfo.get('drwtNo1')\n",
    "                    , round_lottoInfo.get('drwtNo2')\n",
    "                    , round_lottoInfo.get('drwtNo3')\n",
    "                    , round_lottoInfo.get('drwtNo4')\n",
    "                    , round_lottoInfo.get('drwtNo5')\n",
    "                    , round_lottoInfo.get('drwtNo6')\n",
    "                    , round_lottoInfo.get('bnusNo')\n",
    "                    , round_lottoInfo.get('firstAccumamnt')\n",
    "                    , round_lottoInfo.get('firstPrzwnerCo')\n",
    "                    , round_lottoInfo.get('firstWinamnt')\n",
    "                    , round_lottoInfo.get('totSellamnt')\n",
    "                    , round_lottoInfo.get('returnValue'))\n",
    "            print(datas)\n",
    "            cursor.execute(sql, datas)\n",
    "            conn.commit()\n",
    "        except Exception as e:\n",
    "            print(e)\n",
    "        finally:\n",
    "            cursor.close()"
   ]
  },
  {
   "cell_type": "code",
   "execution_count": 13,
   "id": "27a3af29",
   "metadata": {},
   "outputs": [],
   "source": [
    "lotto = LottoCash('localhost', 3306, 'lotto', 'administrator', '12qwaszx!@')"
   ]
  },
  {
   "cell_type": "code",
   "execution_count": 21,
   "id": "e53f1803",
   "metadata": {},
   "outputs": [
    {
     "name": "stdout",
     "output_type": "stream",
     "text": [
      "수집할 회차 : 999\n"
     ]
    }
   ],
   "source": [
    "conn = lotto.db_conn()\n",
    "lotto.get_drwNo(conn)"
   ]
  },
  {
   "cell_type": "code",
   "execution_count": 23,
   "id": "6e0d1ee4",
   "metadata": {},
   "outputs": [
    {
     "name": "stdout",
     "output_type": "stream",
     "text": [
      "999회차 = https://www.dhlottery.co.kr/common.do?method=getLottoNumber&drwNo=999\n"
     ]
    }
   ],
   "source": [
    "while True:\n",
    "    round_lottoInfo = lotto.get_lottoInfo()\n",
    "    if \"fail\"!=round_lottoInfo.get('returnValue'):\n",
    "        lotto.set_lottoInfo(conn, round_lottoInfo)    \n",
    "        lotto.drwNo = lotto.drwNo+1\n",
    "    else:\n",
    "        break\n",
    "    "
   ]
  },
  {
   "cell_type": "code",
   "execution_count": 19,
   "id": "1cd9879c",
   "metadata": {},
   "outputs": [],
   "source": [
    "conn.close()"
   ]
  },
  {
   "cell_type": "code",
   "execution_count": null,
   "id": "0c4b9684",
   "metadata": {},
   "outputs": [],
   "source": []
  }
 ],
 "metadata": {
  "kernelspec": {
   "display_name": "py3.9_lottoCash",
   "language": "python",
   "name": "py3.9_lottocash"
  },
  "language_info": {
   "codemirror_mode": {
    "name": "ipython",
    "version": 3
   },
   "file_extension": ".py",
   "mimetype": "text/x-python",
   "name": "python",
   "nbconvert_exporter": "python",
   "pygments_lexer": "ipython3",
   "version": "3.9.9"
  }
 },
 "nbformat": 4,
 "nbformat_minor": 5
}
