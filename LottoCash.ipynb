{
 "cells": [
  {
   "cell_type": "markdown",
   "id": "9b04538d",
   "metadata": {},
   "source": [
    "## 동행복권 회차별 로또 번호 요청 API\n",
    "\n",
    "https://www.dhlottery.co.kr/common.do?method=getLottoNumber&drwNo=(원하는 회차 번호)"
   ]
  },
  {
   "cell_type": "markdown",
   "id": "b549a9b3",
   "metadata": {},
   "source": [
    "Concept\n",
    "1. 회차별 로또 번호를 가져와서, DB에 적재한다.\n",
    "2. 실행시키는 순간, 적재되어있는 회차를 조회하여 신규 회차가 존재할 경우 추가 적재\n",
    "3. "
   ]
  },
  {
   "cell_type": "code",
   "execution_count": 92,
   "id": "5df9f09a",
   "metadata": {},
   "outputs": [],
   "source": [
    "import requests\n",
    "import pymysql"
   ]
  },
  {
   "cell_type": "code",
   "execution_count": 63,
   "id": "76d70a40",
   "metadata": {},
   "outputs": [],
   "source": [
    "class LottoCash:\n",
    "    lotto_url = \"https://www.dhlottery.co.kr/common.do?method=getLottoNumber&drwNo=\"\n",
    "    init_drwNo = 1\n",
    "    \n",
    "    ## pymysql 라이브러리를 사용하여 DB를 활용하기 위해 필요한 정보\n",
    "    conn = pymysql.connect(host='localhost', port=3306, user='administrator', passwd='12qwaszx!@')\n",
    "    cursor = conn.cursor()\n",
    "    \n",
    "    def get_lottoNumFromAPI(self, drwNo):\n",
    "        try:\n",
    "            round_url = self.lotto_url+str(drwNo)    # 동행복권 로또API에 원하는 회차를 입력\n",
    "            print(str(drwNo)+\"회차 API = \"+round_url)\n",
    "            result = requests.get(round_url)\n",
    "            print(result.content)\n",
    "            print(result.json())\n",
    "        except e:\n",
    "            print(e)\n",
    "            \n",
    "    def get_lottoNumFromDB(self, drwNo):\n",
    "        \n",
    "            \n",
    "    \n",
    "            \n",
    "    def set_lottoNumToDB(self):\n",
    "            pass"
   ]
  },
  {
   "cell_type": "code",
   "execution_count": 64,
   "id": "27a3af29",
   "metadata": {},
   "outputs": [],
   "source": [
    "lotto = LottoCash()"
   ]
  },
  {
   "cell_type": "code",
   "execution_count": 66,
   "id": "6e0d1ee4",
   "metadata": {},
   "outputs": [
    {
     "name": "stdout",
     "output_type": "stream",
     "text": [
      "900회차 API = https://www.dhlottery.co.kr/common.do?method=getLottoNumber&drwNo=900\n",
      "b'{\"totSellamnt\":83639372000,\"returnValue\":\"success\",\"drwNoDate\":\"2020-02-29\",\"firstWinamnt\":3349851375,\"drwtNo6\":38,\"drwtNo4\":18,\"firstPrzwnerCo\":6,\"drwtNo5\":35,\"bnusNo\":14,\"firstAccumamnt\":20099108250,\"drwNo\":900,\"drwtNo2\":13,\"drwtNo3\":16,\"drwtNo1\":7}'\n",
      "{'totSellamnt': 83639372000, 'returnValue': 'success', 'drwNoDate': '2020-02-29', 'firstWinamnt': 3349851375, 'drwtNo6': 38, 'drwtNo4': 18, 'firstPrzwnerCo': 6, 'drwtNo5': 35, 'bnusNo': 14, 'firstAccumamnt': 20099108250, 'drwNo': 900, 'drwtNo2': 13, 'drwtNo3': 16, 'drwtNo1': 7}\n"
     ]
    }
   ],
   "source": [
    "lotto.get_lottoNum(900)"
   ]
  },
  {
   "cell_type": "code",
   "execution_count": null,
   "id": "1cd9879c",
   "metadata": {},
   "outputs": [],
   "source": []
  }
 ],
 "metadata": {
  "kernelspec": {
   "display_name": "py3.9_lottoCash",
   "language": "python",
   "name": "py3.9_lottocash"
  },
  "language_info": {
   "codemirror_mode": {
    "name": "ipython",
    "version": 3
   },
   "file_extension": ".py",
   "mimetype": "text/x-python",
   "name": "python",
   "nbconvert_exporter": "python",
   "pygments_lexer": "ipython3",
   "version": "3.9.9"
  }
 },
 "nbformat": 4,
 "nbformat_minor": 5
}
